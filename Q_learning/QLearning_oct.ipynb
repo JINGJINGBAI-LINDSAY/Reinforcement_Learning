{
 "cells": [
  {
   "cell_type": "code",
   "execution_count": 1,
   "id": "a6c17c5e",
   "metadata": {},
   "outputs": [],
   "source": [
    "import numpy as np\n",
    "\n",
    "n_states = 16  \n",
    "n_actions = 4  \n",
    "goal_state = 15  \n",
    "\n",
    "Q_table = np.zeros((n_states, n_actions))"
   ]
  },
  {
   "cell_type": "code",
   "execution_count": 2,
   "id": "940603d1",
   "metadata": {},
   "outputs": [],
   "source": [
    "learning_rate = 0.8\n",
    "discount_factor = 0.95\n",
    "exploration_prob = 0.2\n",
    "epochs = 1000"
   ]
  },
  {
   "cell_type": "code",
   "execution_count": 3,
   "id": "5cd62ccb",
   "metadata": {},
   "outputs": [],
   "source": [
    "for epoch in range(epochs):\n",
    "    current_state = np.random.randint(0, n_states)  \n",
    "    while current_state != goal_state:\n",
    "        if np.random.rand() < exploration_prob:\n",
    "            action = np.random.randint(0, n_actions)  \n",
    "        else:\n",
    "            action = np.argmax(Q_table[current_state])  \n",
    "\n",
    "        next_state = (current_state + 1) % n_states\n",
    "\n",
    "        reward = 1 if next_state == goal_state else 0\n",
    "\n",
    "        Q_table[current_state, action] += learning_rate * \\\n",
    "            (reward + discount_factor *\n",
    "             np.max(Q_table[next_state]) - Q_table[current_state, action])\n",
    "\n",
    "        current_state = next_state  "
   ]
  },
  {
   "cell_type": "code",
   "execution_count": null,
   "id": "bf2a5be7",
   "metadata": {},
   "outputs": [],
   "source": [
    "import matplotlib.pyplot as plt\n",
    "q_values_grid = np.max(Q_table, axis=1).reshape((4, 4)) \n",
    "\n",
    "# Plot the grid of Q-values\n",
    "plt.figure(figsize=(6, 6))\n",
    "plt.imshow(q_values_grid, cmap='coolwarm', interpolation='nearest')\n",
    "plt.colorbar(label='Q-value')\n",
    "plt.title('Learned Q-values for each state')\n",
    "plt.xticks(np.arange(4), ['0', '1', '2', '3'])\n",
    "plt.yticks(np.arange(4), ['0', '1', '2', '3'])\n",
    "plt.gca().invert_yaxis()  # To match grid layout\n",
    "plt.grid(True)\n",
    "\n",
    "# Annotating the Q-values on the grid\n",
    "for i in range(4):\n",
    "    for j in range(4):\n",
    "        plt.text(j, i, f'{q_values_grid[i, j]:.2f}', ha='center', va='center', color='black')\n",
    "\n",
    "plt.show()\n",
    "\n",
    "# Print learned Q-table\n",
    "print(\"Learned Q-table:\")\n",
    "print(Q_table)"
   ]
  }
 ],
 "metadata": {
  "kernelspec": {
   "display_name": "quant_env",
   "language": "python",
   "name": "python3"
  },
  "language_info": {
   "codemirror_mode": {
    "name": "ipython",
    "version": 3
   },
   "file_extension": ".py",
   "mimetype": "text/x-python",
   "name": "python",
   "nbconvert_exporter": "python",
   "pygments_lexer": "ipython3",
   "version": "3.8.20"
  }
 },
 "nbformat": 4,
 "nbformat_minor": 5
}
